{
  "nbformat": 4,
  "nbformat_minor": 0,
  "metadata": {
    "colab": {
      "provenance": [],
      "authorship_tag": "ABX9TyNZ3TGm+fXSCQ3fcTGKuFJ1",
      "include_colab_link": true
    },
    "kernelspec": {
      "name": "python3",
      "display_name": "Python 3"
    },
    "language_info": {
      "name": "python"
    }
  },
  "cells": [
    {
      "cell_type": "markdown",
      "metadata": {
        "id": "view-in-github",
        "colab_type": "text"
      },
      "source": [
        "<a href=\"https://colab.research.google.com/github/udaynayar/SRIP-SummerProject-2025/blob/main/27Feb2025_SRIP_Proj.ipynb\" target=\"_parent\"><img src=\"https://colab.research.google.com/assets/colab-badge.svg\" alt=\"Open In Colab\"/></a>"
      ]
    },
    {
      "cell_type": "code",
      "execution_count": null,
      "metadata": {
        "colab": {
          "base_uri": "https://localhost:8080/"
        },
        "id": "jIPwe7ioZPjr",
        "outputId": "55299206-d4ad-4a67-e405-81faa7bb007e"
      },
      "outputs": [
        {
          "output_type": "stream",
          "name": "stdout",
          "text": [
            "/content\n"
          ]
        }
      ],
      "source": [
        "import os\n",
        "print(os.getcwd())"
      ]
    },
    {
      "cell_type": "code",
      "source": [
        "print(os.listdir(\"drive/MyDrive/srip_task\"))"
      ],
      "metadata": {
        "colab": {
          "base_uri": "https://localhost:8080/"
        },
        "id": "sj6zGiy_qC-7",
        "outputId": "93a8a2ba-3444-423b-bdb3-3d0657e27ba2"
      },
      "execution_count": null,
      "outputs": [
        {
          "output_type": "stream",
          "name": "stdout",
          "text": [
            "['labels-20250212T103318Z-001.zip', 'image_chips_native-20250212T103727Z-001.zip']\n"
          ]
        }
      ]
    },
    {
      "cell_type": "code",
      "source": [
        "from google.colab import drive\n",
        "drive.mount('/content/drive')"
      ],
      "metadata": {
        "id": "0RcDUSZ86OAr",
        "colab": {
          "base_uri": "https://localhost:8080/"
        },
        "outputId": "932b0ed4-8f06-47f0-fad1-06182f78166c"
      },
      "execution_count": null,
      "outputs": [
        {
          "output_type": "stream",
          "name": "stdout",
          "text": [
            "Drive already mounted at /content/drive; to attempt to forcibly remount, call drive.mount(\"/content/drive\", force_remount=True).\n"
          ]
        }
      ]
    },
    {
      "cell_type": "code",
      "source": [
        "import zipfile\n",
        "# Define the zip file path and extraction location\n",
        "zip_path1 = \"drive/MyDrive/srip_task/image_chips_native-20250212T103727Z-001.zip\"\n",
        "zip_path2 = \"drive/MyDrive/srip_task/labels-20250212T103318Z-001.zip\"\n",
        "extract_to = \"extracted_files\"  # Replace with the desired extraction folder\n",
        "\n",
        "# Open and extract\n",
        "with zipfile.ZipFile(zip_path1, 'r') as zip_ref:\n",
        "    zip_ref.extractall(extract_to)\n",
        "with zipfile.ZipFile(zip_path2, 'r') as zip_ref:\n",
        "    zip_ref.extractall(extract_to)\n",
        "\n",
        "print(\"Extraction complete.\")"
      ],
      "metadata": {
        "colab": {
          "base_uri": "https://localhost:8080/"
        },
        "id": "H3S7faAWsLX3",
        "outputId": "6afc909d-d086-4126-9a40-0f7e3bdd7f9d"
      },
      "execution_count": null,
      "outputs": [
        {
          "output_type": "stream",
          "name": "stdout",
          "text": [
            "Extraction complete.\n"
          ]
        }
      ]
    },
    {
      "cell_type": "code",
      "source": [
        "print(os.listdir(\"/content/drive/MyDrive/extracted_files\"))"
      ],
      "metadata": {
        "id": "Lf1Xeu6usWYn",
        "colab": {
          "base_uri": "https://localhost:8080/"
        },
        "outputId": "cc65b573-5e93-4d79-bfc4-c52153595ba4"
      },
      "execution_count": null,
      "outputs": [
        {
          "output_type": "stream",
          "name": "stdout",
          "text": [
            "['labels', 'image_chips_native']\n"
          ]
        }
      ]
    },
    {
      "cell_type": "code",
      "source": [],
      "metadata": {
        "id": "VZaW88U-yHNi"
      },
      "execution_count": null,
      "outputs": []
    },
    {
      "cell_type": "code",
      "source": [
        "labels_native = os.listdir(\"/content/drive/MyDrive/extracted_files/labels/labels_native\")\n",
        "labels_hd = os.listdir(\"/content/drive/MyDrive/extracted_files/labels/labels_hd\")\n"
      ],
      "metadata": {
        "id": "mNG2zUmYEbFd"
      },
      "execution_count": null,
      "outputs": []
    },
    {
      "cell_type": "code",
      "source": [
        "print(len(labels_native), len(labels_hd))"
      ],
      "metadata": {
        "colab": {
          "base_uri": "https://localhost:8080/"
        },
        "id": "IRIk-R71GCyo",
        "outputId": "1d970182-ded9-4b8e-8b6a-23a5359b9298"
      },
      "execution_count": null,
      "outputs": [
        {
          "output_type": "stream",
          "name": "stdout",
          "text": [
            "2542 2552\n"
          ]
        }
      ]
    },
    {
      "cell_type": "code",
      "source": [
        "labels_hd[:5]\n",
        "labels_native[:5]\n",
        "#labels_hd[-5:]\n",
        "#labels_native[-5:]"
      ],
      "metadata": {
        "colab": {
          "base_uri": "https://localhost:8080/"
        },
        "id": "iiUkAkXNGEMI",
        "outputId": "355d3e9d-9dbb-4ff4-c303-f0b23325278b"
      },
      "execution_count": null,
      "outputs": [
        {
          "output_type": "execute_result",
          "data": {
            "text/plain": [
              "['solarpanels_native_2__x0_5412_y0_6358_dxdy_416.txt',\n",
              " 'solarpanels_native_3__x0_9281_y0_14203_dxdy_416.txt',\n",
              " 'solarpanels_native_1__x0_7897_y0_10358_dxdy_416.txt',\n",
              " 'solarpanels_native_3__x0_6665_y0_13763_dxdy_416.txt',\n",
              " 'solarpanels_native_3__x0_5505_y0_1236_dxdy_416.txt']"
            ]
          },
          "metadata": {},
          "execution_count": 18
        }
      ]
    },
    {
      "cell_type": "code",
      "source": [
        "!mv extracted_files /content/drive/MyDrive/"
      ],
      "metadata": {
        "id": "kaAFTw0hGVDg"
      },
      "execution_count": null,
      "outputs": []
    },
    {
      "cell_type": "code",
      "source": [
        "image_chips = os.listdir(\"/content/drive/MyDrive/extracted_files/image_chips_native\")\n",
        "labels = os.listdir(\"/content/drive/MyDrive/extracted_files/labels\")\n",
        "\n",
        "print(\"How many image chips do we have?\", len(image_chips))\n",
        "print(image_chips[:5])\n",
        "print(\"-----------------------------\")\n",
        "print(\"How many labels do we have?\", len(labels))\n",
        "print(labels)"
      ],
      "metadata": {
        "colab": {
          "base_uri": "https://localhost:8080/"
        },
        "id": "39Pb2VXPX404",
        "outputId": "ae3c3084-1226-4b81-ea27-562bdf8753a1"
      },
      "execution_count": null,
      "outputs": [
        {
          "output_type": "stream",
          "name": "stdout",
          "text": [
            "How many image chips do we have? 2553\n",
            "['solarpanels_native_1__x0_1434_y0_7503_dxdy_416.tif', 'solarpanels_native_2__x0_9492_y0_3814_dxdy_416.tif', 'solarpanels_native_2__x0_494_y0_10999_dxdy_416.tif', 'solarpanels_native_3__x0_10361_y0_9859_dxdy_416.tif', 'solarpanels_native_1__x0_8141_y0_12142_dxdy_416.tif']\n",
            "-----------------------------\n",
            "How many labels do we have? 2\n",
            "['labels_native', 'labels_hd']\n"
          ]
        }
      ]
    },
    {
      "cell_type": "code",
      "source": [
        "\"\"\"import json\n",
        "import os\n",
        "\n",
        "# Path to your annotation file\n",
        "annotation_file = \"path/to/annotations.json\"\n",
        "\n",
        "# Load JSON file\n",
        "with open(annotation_file, \"r\") as f:\n",
        "    data = json.load(f)\n",
        "\n",
        "# Extract key information\n",
        "images = data[\"images\"]       # List of images\n",
        "annotations = data[\"annotations\"]  # List of annotations (bounding boxes)\n",
        "categories = data[\"categories\"]    # Object categories\n",
        "\n",
        "print(f\"Total images: {len(images)}\")\n",
        "print(f\"Total annotations (solar panel instances): {len(annotations)}\")\n",
        "\"\"\"\n",
        "\n",
        "s1 = set(labels_native)\n",
        "s2 = set(labels_hd)\n",
        "s3 = set(image_chips)\n",
        "print(len(s1))\n",
        "print(len(s2))\n",
        "print(len(s3))"
      ],
      "metadata": {
        "colab": {
          "base_uri": "https://localhost:8080/"
        },
        "id": "JF79tjNzbbbI",
        "outputId": "94a15d73-2094-4761-f275-a308637b18e0"
      },
      "execution_count": null,
      "outputs": [
        {
          "output_type": "stream",
          "name": "stdout",
          "text": [
            "2542\n",
            "2552\n",
            "2553\n"
          ]
        }
      ]
    },
    {
      "cell_type": "code",
      "source": [
        "l1 = sorted(labels_native)\n",
        "l2 = sorted(labels_hd)\n",
        "l3 = sorted(image_chips)\n",
        "print(len(l1))\n",
        "print(len(l2))\n",
        "print(len(l3))"
      ],
      "metadata": {
        "colab": {
          "base_uri": "https://localhost:8080/"
        },
        "id": "OS5t1DJXbjnp",
        "outputId": "ff4ad4d2-3343-4c91-e563-0e5bd6d645f4"
      },
      "execution_count": null,
      "outputs": [
        {
          "output_type": "stream",
          "name": "stdout",
          "text": [
            "2542\n",
            "2552\n",
            "2553\n"
          ]
        }
      ]
    },
    {
      "cell_type": "code",
      "source": [
        "print(l1[:2])\n",
        "print(l2[:2])\n",
        "print(l3[:2])"
      ],
      "metadata": {
        "colab": {
          "base_uri": "https://localhost:8080/"
        },
        "id": "wJqMA5t3U7Un",
        "outputId": "c56e5e46-a08d-45e0-e98c-e75e592727a8"
      },
      "execution_count": null,
      "outputs": [
        {
          "output_type": "stream",
          "name": "stdout",
          "text": [
            "['solarpanels_native_1__x0_0_y0_6845_dxdy_416.txt', 'solarpanels_native_1__x0_0_y0_6963_dxdy_416.txt']\n",
            "['solarpanels_hd_1__x0_0_y0_14020_dxdy_832.txt', 'solarpanels_hd_1__x0_0_y0_14041_dxdy_832.txt']\n",
            "['solarpanels_native_1__x0_0_y0_6845_dxdy_416.tif', 'solarpanels_native_1__x0_0_y0_6963_dxdy_416.tif']\n"
          ]
        }
      ]
    },
    {
      "cell_type": "code",
      "source": [
        "lab1 = [st[:-4] for st in l1]\n",
        "lab2 = [st[:-4] for st in l2]\n",
        "lab3 = [st[:-4] for st in l3]"
      ],
      "metadata": {
        "id": "nSIWzhzbU73o"
      },
      "execution_count": null,
      "outputs": []
    },
    {
      "cell_type": "code",
      "source": [
        "print(len(lab1))\n",
        "print(len(lab2))\n",
        "print(len(lab3))"
      ],
      "metadata": {
        "colab": {
          "base_uri": "https://localhost:8080/"
        },
        "id": "ZkgqfzhZVM0z",
        "outputId": "f311e761-8eaf-45f3-ec45-c1d965b490d9"
      },
      "execution_count": null,
      "outputs": [
        {
          "output_type": "stream",
          "name": "stdout",
          "text": [
            "2542\n",
            "2552\n",
            "2553\n"
          ]
        }
      ]
    },
    {
      "cell_type": "code",
      "source": [
        "print(len(set(lab1)))\n",
        "print(len(set(lab2)))\n",
        "print(len(set(lab3)))"
      ],
      "metadata": {
        "colab": {
          "base_uri": "https://localhost:8080/"
        },
        "id": "-RPALO4FVNRI",
        "outputId": "a4d53525-c74f-4da7-f831-a21101ae3684"
      },
      "execution_count": null,
      "outputs": [
        {
          "output_type": "stream",
          "name": "stdout",
          "text": [
            "2542\n",
            "2552\n",
            "2553\n"
          ]
        }
      ]
    },
    {
      "cell_type": "code",
      "source": [
        "print('solarpanels_hd' in [lab1[i][:14] for i in range(len(lab1))])\n",
        "print('solarpanels_hd' in [lab2[i][:14] for i in range(len(lab2))])\n",
        "print('solarpanels_hd' in [lab3[i][:14] for i in range(len(lab3))])\n",
        "print('solarpanels_na' in [lab1[i][:14] for i in range(len(lab1))])\n",
        "print('solarpanels_na' in [lab2[i][:14] for i in range(len(lab2))])\n",
        "print('solarpanels_na' in [lab3[i][:14] for i in range(len(lab3))])"
      ],
      "metadata": {
        "colab": {
          "base_uri": "https://localhost:8080/"
        },
        "id": "4WfoWmrbVNr3",
        "outputId": "744a2448-befc-4581-cd39-598699fa1565"
      },
      "execution_count": null,
      "outputs": [
        {
          "output_type": "stream",
          "name": "stdout",
          "text": [
            "False\n",
            "True\n",
            "False\n",
            "True\n",
            "False\n",
            "True\n"
          ]
        }
      ]
    },
    {
      "cell_type": "code",
      "source": [
        "print('_416' in [lab1[i][-4:] for i in range(len(lab1))])\n",
        "print('_416' in [lab2[i][-4:] for i in range(len(lab2))])\n",
        "print('_416' in [lab3[i][-4:] for i in range(len(lab3))])\n",
        "print('_832' in [lab1[i][-4:] for i in range(len(lab1))])\n",
        "print('_832' in [lab2[i][-4:] for i in range(len(lab2))])\n",
        "print('_832' in [lab3[i][-4:] for i in range(len(lab3))])"
      ],
      "metadata": {
        "colab": {
          "base_uri": "https://localhost:8080/"
        },
        "id": "TsdqXU38WIG8",
        "outputId": "e88cbf0e-82cd-4c4b-bcc6-2edc4bc8c814"
      },
      "execution_count": null,
      "outputs": [
        {
          "output_type": "stream",
          "name": "stdout",
          "text": [
            "True\n",
            "False\n",
            "True\n",
            "False\n",
            "True\n",
            "False\n"
          ]
        }
      ]
    },
    {
      "cell_type": "code",
      "source": [
        "#'_'.join(lab1[0].split('_')[2:-1])\n",
        "\n",
        "lab_set1 = set(['_'.join(lab1[ii].split('_')[2:-1]) for ii in range(len(lab1))])\n",
        "lab_set2 = set(['_'.join(lab2[ii].split('_')[2:-1]) for ii in range(len(lab2))])\n",
        "lab_set3 = set(['_'.join(lab3[ii].split('_')[2:-1]) for ii in range(len(lab3))])\n",
        "\n",
        "print(len((lab_set1)))\n",
        "print(len((lab_set2)))\n",
        "print(len((lab_set3)))"
      ],
      "metadata": {
        "colab": {
          "base_uri": "https://localhost:8080/"
        },
        "id": "iTJig4zFWJHP",
        "outputId": "11f92a9f-7eee-4b64-87d6-591775f822e2"
      },
      "execution_count": null,
      "outputs": [
        {
          "output_type": "stream",
          "name": "stdout",
          "text": [
            "2542\n",
            "2542\n",
            "2542\n"
          ]
        }
      ]
    },
    {
      "cell_type": "code",
      "source": [
        "'_'.join(lab1[0].split('_'))\n"
      ],
      "metadata": {
        "colab": {
          "base_uri": "https://localhost:8080/",
          "height": 35
        },
        "id": "kuUcrpQnqB4d",
        "outputId": "912324b8-d059-4efd-af7a-830f0baa420b"
      },
      "execution_count": null,
      "outputs": [
        {
          "output_type": "execute_result",
          "data": {
            "text/plain": [
              "'solarpanels_native_1__x0_0_y0_6845_dxdy_416'"
            ],
            "application/vnd.google.colaboratory.intrinsic+json": {
              "type": "string"
            }
          },
          "metadata": {},
          "execution_count": 72
        }
      ]
    },
    {
      "cell_type": "code",
      "source": [
        "#\n",
        "\n",
        "lab_set1_ = set(['_'.join(lab1[ii].split('_')[2:]) for ii in range(len(lab1))])\n",
        "lab_set2_ = set(['_'.join(lab2[ii].split('_')[2:]) for ii in range(len(lab2))])\n",
        "lab_set3_ = set(['_'.join(lab3[ii].split('_')[2:]) for ii in range(len(lab3))])\n",
        "\n",
        "print(len((lab_set1_)))\n",
        "print(len((lab_set2_)))\n",
        "print(len((lab_set3_)))"
      ],
      "metadata": {
        "colab": {
          "base_uri": "https://localhost:8080/"
        },
        "id": "5JO7fSJGcQUT",
        "outputId": "509dc06e-be7f-42de-e90b-83f08cd699a7"
      },
      "execution_count": null,
      "outputs": [
        {
          "output_type": "stream",
          "name": "stdout",
          "text": [
            "2542\n",
            "2552\n",
            "2553\n"
          ]
        }
      ]
    },
    {
      "cell_type": "code",
      "source": [
        "\n",
        "\n",
        "lab_set1__ = set(['_'.join(lab1[ii].split('_')[1:-1]) for ii in range(len(lab1))])\n",
        "lab_set2__ = set(['_'.join(lab2[ii].split('_')[1:-1]) for ii in range(len(lab2))])\n",
        "lab_set3__ = set(['_'.join(lab3[ii].split('_')[1:-1]) for ii in range(len(lab3))])\n",
        "\n",
        "print(len((lab_set1__)))\n",
        "print(len((lab_set2__)))\n",
        "print(len((lab_set3__)))"
      ],
      "metadata": {
        "colab": {
          "base_uri": "https://localhost:8080/"
        },
        "id": "yIR7LxwucQx5",
        "outputId": "c8a0926a-66aa-4a3c-99cf-f5454973f298"
      },
      "execution_count": null,
      "outputs": [
        {
          "output_type": "stream",
          "name": "stdout",
          "text": [
            "2542\n",
            "2542\n",
            "2542\n"
          ]
        }
      ]
    },
    {
      "cell_type": "code",
      "source": [
        "'_'.join(lab1[0].split('_')[1:])"
      ],
      "metadata": {
        "colab": {
          "base_uri": "https://localhost:8080/",
          "height": 35
        },
        "id": "M2EbA0FtcRTb",
        "outputId": "8efa2374-4304-44b6-b053-925ab828d633"
      },
      "execution_count": null,
      "outputs": [
        {
          "output_type": "execute_result",
          "data": {
            "text/plain": [
              "'native_1__x0_0_y0_6845_dxdy_416'"
            ],
            "application/vnd.google.colaboratory.intrinsic+json": {
              "type": "string"
            }
          },
          "metadata": {},
          "execution_count": 59
        }
      ]
    },
    {
      "cell_type": "code",
      "source": [
        "lab1[0]\n",
        "ss = 0\n",
        "for i in range(len(lab1)):\n",
        "  a1,a2 = lab1[i].split('_')[1], lab1[i].split('_')[-1]\n",
        "  if (a1=='native' and a2=='416') or (a1=='hd' and a2=='832'):\n",
        "    ss += 1\n",
        "print(ss,len(lab1))\n",
        "\n",
        "print(\"----------------------------------\")\n",
        "\n",
        "ss = 0\n",
        "for i in range(len(lab2)):\n",
        "  a1,a2 = lab2[i].split('_')[1], lab2[i].split('_')[-1]\n",
        "  if (a1=='native' and a2=='416') or (a1=='hd' and a2=='832'):\n",
        "    ss += 1\n",
        "  else:\n",
        "    print(\"Lab2:\", i, lab2[i])\n",
        "print(ss,len(lab2))\n",
        "\n",
        "print(\"----------------------------------\")\n",
        "\n",
        "ss = 0\n",
        "for i in range(len(lab3)):\n",
        "  a1,a2 = lab3[i].split('_')[1], lab3[i].split('_')[-1]\n",
        "  if (a1=='native' and a2=='416') or (a1=='hd' and a2=='832'):\n",
        "    ss += 1\n",
        "  else:\n",
        "    print(\"Lab3:\", i, lab3[i])\n",
        "print(ss,len(lab3))"
      ],
      "metadata": {
        "colab": {
          "base_uri": "https://localhost:8080/"
        },
        "id": "qjgM4mSred5l",
        "outputId": "497c2deb-e47a-423d-c0ea-84830dbb95e6"
      },
      "execution_count": null,
      "outputs": [
        {
          "output_type": "stream",
          "name": "stdout",
          "text": [
            "2542 2542\n",
            "----------------------------------\n",
            "Lab2: 948 solarpanels_hd_1__x0_8971_y0_13024_dxdy_832(1)\n",
            "Lab2: 950 solarpanels_hd_1__x0_8985_y0_23459_dxdy_832(1)\n",
            "Lab2: 952 solarpanels_hd_1__x0_9018_y0_25843_dxdy_832(1)\n",
            "Lab2: 954 solarpanels_hd_1__x0_9056_y0_21439_dxdy_832(1)\n",
            "Lab2: 956 solarpanels_hd_1__x0_9076_y0_26335_dxdy_832(1)\n",
            "Lab2: 958 solarpanels_hd_1__x0_9107_y0_23305_dxdy_832(1)\n",
            "Lab2: 960 solarpanels_hd_1__x0_914_y0_14724_dxdy_832(1)\n",
            "Lab2: 962 solarpanels_hd_1__x0_9182_y0_23369_dxdy_832(1)\n",
            "Lab2: 964 solarpanels_hd_1__x0_9203_y0_23322_dxdy_832(1)\n",
            "Lab2: 966 solarpanels_hd_1__x0_9203_y0_23477_dxdy_832(1)\n",
            "2542 2552\n",
            "----------------------------------\n",
            "Lab3: 480 solarpanels_native_1__x0_5472_y0_12892_dxdy_416(1)\n",
            "Lab3: 731 solarpanels_native_1__x0_7934_y0_8341_dxdy_416(1)\n",
            "Lab3: 733 solarpanels_native_1__x0_7934_y0_8347_dxdy_416(1)\n",
            "Lab3: 735 solarpanels_native_1__x0_7937_y0_11298_dxdy_416(1)\n",
            "Lab3: 737 solarpanels_native_1__x0_7957_y0_8387_dxdy_416(1)\n",
            "Lab3: 739 solarpanels_native_1__x0_7958_y0_8403_dxdy_416(1)\n",
            "Lab3: 741 solarpanels_native_1__x0_7962_y0_8558_dxdy_416(1)\n",
            "Lab3: 743 solarpanels_native_1__x0_7986_y0_11313_dxdy_416(1)\n",
            "Lab3: 745 solarpanels_native_1__x0_7997_y0_10765_dxdy_416(1)\n",
            "Lab3: 747 solarpanels_native_1__x0_7999_y0_8765_dxdy_416(1)\n",
            "Lab3: 749 solarpanels_native_1__x0_7_y0_6959_dxdy_416(1)\n",
            "2542 2553\n"
          ]
        }
      ]
    },
    {
      "cell_type": "code",
      "source": [
        "modified_lab2 = [item.split('(')[0] if item[-1] == ')' else item for item in lab2]\n",
        "modified_lab3 = [item.split('(')[0] if item[-1] == ')' else item for item in lab3]\n",
        "print(len(lab1), len(modified_lab2), len(modified_lab3))"
      ],
      "metadata": {
        "colab": {
          "base_uri": "https://localhost:8080/"
        },
        "id": "yRFa9yPXeeWg",
        "outputId": "baba027e-7bf6-4d8d-bed2-f821a00cfaf0"
      },
      "execution_count": null,
      "outputs": [
        {
          "output_type": "stream",
          "name": "stdout",
          "text": [
            "2542 2552 2553\n"
          ]
        }
      ]
    },
    {
      "cell_type": "code",
      "source": [
        "print(len(set(lab1)), len(set(modified_lab2)), len(set(modified_lab3)))"
      ],
      "metadata": {
        "colab": {
          "base_uri": "https://localhost:8080/"
        },
        "id": "YJM9KuGQeexM",
        "outputId": "61cbfdc4-0388-4fa6-c758-87d3f2a60161"
      },
      "execution_count": null,
      "outputs": [
        {
          "output_type": "stream",
          "name": "stdout",
          "text": [
            "2542 2542 2542\n"
          ]
        }
      ]
    },
    {
      "cell_type": "code",
      "source": [
        "# ACCORDING to the README file, \"there are 2,542 object labels for each image type,\n",
        "# following the same naming convention as the corresponding image chips.\"\n",
        "\n",
        "print(sorted(lab1)==sorted(set(modified_lab3)))\n",
        "print(sorted(['_'.join(item.split('_')[2:-5]) for item in set(modified_lab2)])==\n",
        "      sorted(['_'.join(item.split('_')[2:-5]) for item in lab1]))"
      ],
      "metadata": {
        "colab": {
          "base_uri": "https://localhost:8080/"
        },
        "id": "MN77T4IljI72",
        "outputId": "8c44a74c-ddf3-45be-a5d1-ddd05b6ee89e"
      },
      "execution_count": null,
      "outputs": [
        {
          "output_type": "stream",
          "name": "stdout",
          "text": [
            "True\n",
            "True\n"
          ]
        }
      ]
    },
    {
      "cell_type": "code",
      "source": [
        "# To examine what is different in the native and HD labels\n",
        "\n",
        "check0 = sorted(['_'.join(item.split('_')[2:-1]) for item in set(modified_lab2)])\n",
        "check1 = sorted(['_'.join(item.split('_')[2:-1]) for item in lab1])\n"
      ],
      "metadata": {
        "id": "-825jhqFjJbM"
      },
      "execution_count": null,
      "outputs": []
    },
    {
      "cell_type": "code",
      "source": [
        "print(check0[:10])\n",
        "print(check1[:10])\n",
        "\n",
        "# So, the native labels and HD labels differ in their minimum y_bound (at least)\n",
        "# On observing, some of them differ in their minimum x_bound as well\n",
        "\n",
        "check0 = sorted(['_'.join(item.split('_')[2:-3]) for item in set(modified_lab2)])\n",
        "check1 = sorted(['_'.join(item.split('_')[2:-3]) for item in lab1])\n",
        "print(check0[:10])\n",
        "print(check1[:10])"
      ],
      "metadata": {
        "colab": {
          "base_uri": "https://localhost:8080/"
        },
        "id": "y5iHgQe0jJ4-",
        "outputId": "2a7fc346-5fb3-4469-dab8-6af406a62b24"
      },
      "execution_count": null,
      "outputs": [
        {
          "output_type": "stream",
          "name": "stdout",
          "text": [
            "['1__x0_0_y0_14020_dxdy', '1__x0_0_y0_14041_dxdy', '1__x0_0_y0_14228_dxdy', '1__x0_0_y0_14446_dxdy', '1__x0_0_y0_14605_dxdy', '1__x0_0_y0_14633_dxdy', '1__x0_0_y0_14698_dxdy', '1__x0_0_y0_15188_dxdy', '1__x0_0_y0_16046_dxdy', '1__x0_10114_y0_26273_dxdy']\n",
            "['1__x0_0_y0_6845_dxdy', '1__x0_0_y0_6963_dxdy', '1__x0_0_y0_7119_dxdy', '1__x0_0_y0_7229_dxdy', '1__x0_0_y0_7230_dxdy', '1__x0_0_y0_7249_dxdy', '1__x0_0_y0_7303_dxdy', '1__x0_0_y0_7418_dxdy', '1__x0_0_y0_7513_dxdy', '1__x0_0_y0_7840_dxdy']\n",
            "['1__x0_0_y0', '1__x0_0_y0', '1__x0_0_y0', '1__x0_0_y0', '1__x0_0_y0', '1__x0_0_y0', '1__x0_0_y0', '1__x0_0_y0', '1__x0_0_y0', '1__x0_10114_y0']\n",
            "['1__x0_0_y0', '1__x0_0_y0', '1__x0_0_y0', '1__x0_0_y0', '1__x0_0_y0', '1__x0_0_y0', '1__x0_0_y0', '1__x0_0_y0', '1__x0_0_y0', '1__x0_0_y0']\n"
          ]
        }
      ]
    },
    {
      "cell_type": "code",
      "source": [
        "LABELS_NATIVE = sorted(lab1)\n",
        "LABELS_HD = sorted(set(modified_lab2))"
      ],
      "metadata": {
        "id": "V35Pt84YsjVz"
      },
      "execution_count": null,
      "outputs": []
    },
    {
      "cell_type": "code",
      "source": [
        "# 1. Data Exploration and Understanding\n",
        "\n",
        "appearances_of_label = {}\n",
        "for lab in LABELS_NATIVE:\n",
        "  label = lab.split('_')[2]\n",
        "  appearances_of_label[label] = 1 + appearances_of_label.get(label, 0)\n",
        "\n",
        "print(\"Number of appearances of each label:\")\n",
        "print(appearances_of_label)\n"
      ],
      "metadata": {
        "colab": {
          "base_uri": "https://localhost:8080/"
        },
        "id": "SK0AF9wPsjyw",
        "outputId": "f7a92e29-0a4d-4646-f5a8-60ff932c3452"
      },
      "execution_count": null,
      "outputs": [
        {
          "output_type": "stream",
          "name": "stdout",
          "text": [
            "Number of appearances of each label:\n",
            "{'1': 989, '2': 638, '3': 915}\n"
          ]
        }
      ]
    },
    {
      "cell_type": "code",
      "source": [
        "#labels_native = os.listdir(\"/content/drive/MyDrive/extracted_files/labels/labels_native\")\n",
        "#labels_hd = os.listdir(\"/content/drive/MyDrive/extracted_files/labels/labels_hd\")\n",
        "import os\n",
        "\n",
        "# Path to the labels folder\n",
        "label_dir = \"/content/drive/MyDrive/extracted_files/labels/labels_native\"\n",
        "\n",
        "# Count total solar panel instances\n",
        "total_instances = 0\n",
        "\n",
        "for file in os.listdir(label_dir):\n",
        "    if file.endswith(\".txt\"):  # Ensure we process only text files\n",
        "        with open(os.path.join(label_dir, file), \"r\") as f:\n",
        "            lines = f.readlines()\n",
        "            total_instances += sum(1 for line in lines if line.startswith(\"0 \"))\n",
        "            # Count only class '0', as it is likely to be the category corresponding to solar panels\n",
        "\n",
        "print(f\"Total number of solar panel instances: {total_instances}\")\n"
      ],
      "metadata": {
        "colab": {
          "base_uri": "https://localhost:8080/"
        },
        "id": "rSg2BcRwEtvF",
        "outputId": "bb63f5db-4ab7-475b-9347-ff9219137250"
      },
      "execution_count": 104,
      "outputs": [
        {
          "output_type": "stream",
          "name": "stdout",
          "text": [
            "Total number of solar panel instances: 29267\n"
          ]
        }
      ]
    },
    {
      "cell_type": "code",
      "source": [
        "from collections import Counter\n",
        "\n",
        "label_counts = []\n",
        "\n",
        "for file in os.listdir(label_dir):\n",
        "    if file.endswith(\".txt\"):\n",
        "        with open(os.path.join(label_dir, file), \"r\") as f:\n",
        "            lines = f.readlines()\n",
        "            label_counts.append(len(lines))  # Number of objects in this image\n",
        "\n",
        "# Count occurrences of each label count\n",
        "label_distribution = Counter(label_counts)\n",
        "\n",
        "print(\"Label distribution per image:\")\n",
        "for count, num_images in sorted(label_distribution.items()):\n",
        "    print(f\"{num_images} images have {count} labels\")\n"
      ],
      "metadata": {
        "colab": {
          "base_uri": "https://localhost:8080/"
        },
        "id": "WUskRL2TEt96",
        "outputId": "527149bf-b9f7-494a-e58f-cbc78c7bbb29"
      },
      "execution_count": 105,
      "outputs": [
        {
          "output_type": "stream",
          "name": "stdout",
          "text": [
            "Label distribution per image:\n",
            "81 images have 1 labels\n",
            "167 images have 2 labels\n",
            "221 images have 3 labels\n",
            "218 images have 4 labels\n",
            "217 images have 5 labels\n",
            "189 images have 6 labels\n",
            "170 images have 7 labels\n",
            "184 images have 8 labels\n",
            "169 images have 9 labels\n",
            "121 images have 10 labels\n",
            "97 images have 11 labels\n",
            "84 images have 12 labels\n",
            "69 images have 13 labels\n",
            "49 images have 14 labels\n",
            "46 images have 15 labels\n",
            "41 images have 16 labels\n",
            "36 images have 17 labels\n",
            "25 images have 18 labels\n",
            "29 images have 19 labels\n",
            "14 images have 20 labels\n",
            "4 images have 21 labels\n",
            "1 images have 22 labels\n",
            "4 images have 23 labels\n",
            "2 images have 24 labels\n",
            "4 images have 25 labels\n",
            "3 images have 26 labels\n",
            "5 images have 27 labels\n",
            "5 images have 28 labels\n",
            "15 images have 29 labels\n",
            "20 images have 30 labels\n",
            "8 images have 31 labels\n",
            "7 images have 32 labels\n",
            "13 images have 33 labels\n",
            "19 images have 34 labels\n",
            "10 images have 35 labels\n",
            "6 images have 36 labels\n",
            "17 images have 37 labels\n",
            "13 images have 38 labels\n",
            "6 images have 39 labels\n",
            "9 images have 40 labels\n",
            "10 images have 41 labels\n",
            "12 images have 42 labels\n",
            "11 images have 43 labels\n",
            "4 images have 44 labels\n",
            "2 images have 45 labels\n",
            "5 images have 46 labels\n",
            "9 images have 47 labels\n",
            "3 images have 48 labels\n",
            "5 images have 49 labels\n",
            "6 images have 50 labels\n",
            "9 images have 51 labels\n",
            "16 images have 52 labels\n",
            "4 images have 53 labels\n",
            "6 images have 54 labels\n",
            "1 images have 55 labels\n",
            "1 images have 56 labels\n",
            "3 images have 58 labels\n",
            "2 images have 59 labels\n",
            "2 images have 60 labels\n",
            "1 images have 61 labels\n",
            "6 images have 62 labels\n",
            "3 images have 63 labels\n",
            "1 images have 64 labels\n",
            "3 images have 65 labels\n",
            "4 images have 66 labels\n",
            "1 images have 67 labels\n",
            "1 images have 71 labels\n",
            "1 images have 72 labels\n",
            "1 images have 73 labels\n",
            "5 images have 74 labels\n",
            "1 images have 75 labels\n",
            "2 images have 76 labels\n",
            "2 images have 77 labels\n",
            "1 images have 78 labels\n"
          ]
        }
      ]
    },
    {
      "cell_type": "code",
      "source": [
        "#sum([y for x,y in label_distribution.items()]) #2542\n",
        "\n",
        "\"\"\"The README suggests that area calculations require specific conversions.\n",
        "If each bounding box size is normalized (0 to 1), we need to scale it back\n",
        "to actual image size.\"\"\"\n",
        "\n",
        "import numpy as np\n",
        "import matplotlib.pyplot as plt\n",
        "\n",
        "areas = []\n",
        "\n",
        "for file in os.listdir(label_dir):\n",
        "    if file.endswith(\".txt\"):\n",
        "        with open(os.path.join(label_dir, file), \"r\") as f:\n",
        "            lines = f.readlines()\n",
        "            for line in lines:\n",
        "                parts = line.strip().split()\n",
        "                if parts[0] == \"0\":  # Only process class 0 (solar panels)\n",
        "                    width = float(parts[3]) * 416  # Convert normalized width to pixels\n",
        "                    height = float(parts[4]) * 416  # Convert normalized height to pixels\n",
        "                    area_pixels = width * height\n",
        "                    area_meters = area_pixels * (0.31 * 0.31)  # Convert to square meters\n",
        "                    areas.append(area_meters)\n",
        "\n",
        "# Compute statistics\n",
        "mean_area = np.mean(areas)\n",
        "std_area = np.std(areas)\n",
        "\n",
        "print(f\"Mean area of solar panels (sq meters): {mean_area:.2f}\")\n",
        "print(f\"Standard deviation of area (sq meters): {std_area:.2f}\")\n",
        "\n",
        "# Plot histogram\n",
        "plt.hist(areas, bins=20, edgecolor=\"black\")\n",
        "plt.xlabel(\"Solar Panel Area (sq meters)\")\n",
        "plt.ylabel(\"Frequency\")\n",
        "plt.title(\"Histogram of Solar Panel Areas\")\n",
        "plt.show()\n"
      ],
      "metadata": {
        "colab": {
          "base_uri": "https://localhost:8080/",
          "height": 507
        },
        "id": "96FqpIKpEuJ2",
        "outputId": "d2d2b611-2bb0-4799-c4e7-3b6d4c557c40"
      },
      "execution_count": 107,
      "outputs": [
        {
          "output_type": "stream",
          "name": "stdout",
          "text": [
            "Mean area of solar panels (sq meters): 192.65\n",
            "Standard deviation of area (sq meters): 634.28\n"
          ]
        },
        {
          "output_type": "display_data",
          "data": {
            "text/plain": [
              "<Figure size 640x480 with 1 Axes>"
            ],
            "image/png": "[encoded data removed]"
          },
          "metadata": {}
        }
      ]
    },
    {
      "cell_type": "code",
      "source": [
        "# The dataset follows Ultralytics YOLO format, meaning each bounding box is represented as:\n",
        "# class_id x_center y_center width height\n",
        "# But for IoU computation, we need to convert YOLO format to (x_min, y_min, x_max, y_max).\n",
        "\n",
        "from shapely.geometry import box\n",
        "\n",
        "def yolo_to_corners(x_center, y_center, width, height):\n",
        "    \"\"\"Convert YOLO format (x_center, y_center, width, height) to (x_min, y_min, x_max, y_max).\"\"\"\n",
        "    x_min = x_center - (width / 2)\n",
        "    y_min = y_center - (height / 2)\n",
        "    x_max = x_center + (width / 2)\n",
        "    y_max = y_center + (height / 2)\n",
        "    return x_min, y_min, x_max, y_max\n",
        "\n",
        "def compute_iou(box1, box2):\n",
        "    \"\"\"\n",
        "    Compute Intersection over Union (IoU) between two bounding boxes using Shapely.\n",
        "\n",
        "    Parameters:\n",
        "    - box1, box2: Tuple (x_min, y_min, x_max, y_max)\n",
        "\n",
        "    Returns:\n",
        "    - IoU score (float)\n",
        "    \"\"\"\n",
        "    # Create Shapely boxes\n",
        "    rect1 = box(*box1)\n",
        "    rect2 = box(*box2)\n",
        "\n",
        "    # Compute intersection and union\n",
        "    intersection_area = rect1.intersection(rect2).area\n",
        "    union_area = rect1.area + rect2.area - intersection_area\n",
        "\n",
        "    # Handle edge case where union is zero\n",
        "    if union_area == 0:\n",
        "        return 0.0\n",
        "\n",
        "    return intersection_area / union_area\n",
        "\n",
        "# Example Usage:\n",
        "#box1 = yolo_to_corners(0.5, 0.5, 0.4, 0.4)  # Convert YOLO to corners\n",
        "#box2 = yolo_to_corners(0.6, 0.6, 0.4, 0.4)\n",
        "#iou_score = compute_iou(box1, box2)\n",
        "#print(\"IoU:\", iou_score)"
      ],
      "metadata": {
        "id": "DH63xff2U8RS"
      },
      "execution_count": 109,
      "outputs": []
    },
    {
      "cell_type": "code",
      "source": [
        "import supervision as sv\n",
        "\n",
        "from shapely.geometry import box\n",
        "\n",
        "def yolo_to_corners(x_center, y_center, width, height, image_width, image_height):\n",
        "    \"\"\"Convert YOLO format (x_center, y_center, width, height) to\n",
        "    absolute (x_min, y_min, x_max, y_max) in pixel coordinates.\"\"\"\n",
        "    x_center_abs = x_center * image_width\n",
        "    y_center_abs = y_center * image_height\n",
        "    width_abs = width * image_width\n",
        "    height_abs = height * image_height\n",
        "\n",
        "    x_min = x_center_abs - (width_abs / 2)\n",
        "    y_min = y_center_abs - (height_abs / 2)\n",
        "    x_max = x_center_abs + (width_abs / 2)\n",
        "    y_max = y_center_abs + (height_abs / 2)\n",
        "\n",
        "    return x_min, y_min, x_max, y_max\n",
        "\n",
        "def compute_iou_shapely(box1, box2):\n",
        "    \"\"\"\n",
        "    Compute IoU using Shapely.\n",
        "    \"\"\"\n",
        "    rect1 = box(*box1)\n",
        "    rect2 = box(*box2)\n",
        "    intersection_area = rect1.intersection(rect2).area\n",
        "    union_area = rect1.area + rect2.area - intersection_area\n",
        "\n",
        "    return intersection_area / union_area if union_area != 0 else 0.0\n",
        "\n",
        "def compute_iou_manually(box1, box2):\n",
        "    \"\"\"\n",
        "    Compute IoU using supervision.metrics.iou.\n",
        "    \"\"\"\n",
        "    \"\"\"Compute IoU between two bounding boxes (x_min, y_min, x_max, y_max).\"\"\"\n",
        "    x1_min, y1_min, x1_max, y1_max = box1\n",
        "    x2_min, y2_min, x2_max, y2_max = box2\n",
        "\n",
        "    # Compute intersection\n",
        "    x_inter_min = max(x1_min, x2_min)\n",
        "    y_inter_min = max(y1_min, y2_min)\n",
        "    x_inter_max = min(x1_max, x2_max)\n",
        "    y_inter_max = min(y1_max, y2_max)\n",
        "\n",
        "    inter_width = max(0, x_inter_max - x_inter_min)\n",
        "    inter_height = max(0, y_inter_max - y_inter_min)\n",
        "    intersection_area = inter_width * inter_height\n",
        "\n",
        "    # Compute union\n",
        "    box1_area = (x1_max - x1_min) * (y1_max - y1_min)\n",
        "    box2_area = (x2_max - x2_min) * (y2_max - y2_min)\n",
        "    union_area = box1_area + box2_area - intersection_area\n",
        "\n",
        "    return intersection_area / union_area if union_area > 0 else 0.0\n",
        "\n",
        "# Example YOLO Bounding Boxes\n",
        "yolo_box1 = (0.5, 0.5, 0.4, 0.4)  # (x_center, y_center, width, height)\n",
        "yolo_box2 = (0.6, 0.6, 0.4, 0.4)\n",
        "\n",
        "# Image dimensions\n",
        "image_width = 416  # Replace with your image width\n",
        "image_height = 416  # Replace with your image height\n",
        "\n",
        "# Convert YOLO format to corner coordinates\n",
        "box1 = yolo_to_corners(*yolo_box1, image_width, image_height)\n",
        "box2 = yolo_to_corners(*yolo_box2, image_width, image_height)\n",
        "\n",
        "# Compute IoU using both methods\n",
        "iou_shapely = compute_iou_shapely(box1, box2)\n",
        "iou_manually = compute_iou_manually(box1, box2)\n",
        "\n",
        "print(f\"IoU (Shapely): {iou_shapely:.6f}\")\n",
        "print(f\"IoU (Manually evaluated): {iou_manually:.6f}\")\n",
        "\n",
        "\n",
        "# I'm having trouble with the functionalities of the 'Supervision' library."
      ],
      "metadata": {
        "id": "ebNcByZkbjkP",
        "colab": {
          "base_uri": "https://localhost:8080/"
        },
        "outputId": "2991e148-3301-4e41-bb2d-6dd45a851aa7"
      },
      "execution_count": 118,
      "outputs": [
        {
          "output_type": "stream",
          "name": "stdout",
          "text": [
            "IoU (Shapely): 0.391304\n",
            "IoU (Manually evaluated): 0.391304\n"
          ]
        }
      ]
    },
    {
      "cell_type": "code",
      "source": [
        "import numpy as np\n",
        "\n",
        "def compute_iou_vectorized(gt_boxes, pred_boxes):\n",
        "    \"\"\"\n",
        "    Compute the Intersection over Union (IoU) between ground truth and predicted bounding boxes.\n",
        "\n",
        "    Parameters:\n",
        "    - gt_boxes: (N, 4) NumPy array of ground truth boxes in (x_min, y_min, x_max, y_max) format.\n",
        "    - pred_boxes: (M, 4) NumPy array of predicted boxes in (x_min, y_min, x_max, y_max) format.\n",
        "\n",
        "    Returns:\n",
        "    - iou_matrix: (N, M) NumPy array containing IoU scores for each pair of ground truth and predicted boxes.\n",
        "    \"\"\"\n",
        "    gt_x1, gt_y1, gt_x2, gt_y2 = np.split(gt_boxes, 4, axis=1)\n",
        "    pred_x1, pred_y1, pred_x2, pred_y2 = np.split(pred_boxes, 4, axis=1)\n",
        "\n",
        "    inter_x1 = np.maximum(gt_x1, pred_x1.T)\n",
        "    inter_y1 = np.maximum(gt_y1, pred_y1.T)\n",
        "    inter_x2 = np.minimum(gt_x2, pred_x2.T)\n",
        "    inter_y2 = np.minimum(gt_y2, pred_y2.T)\n",
        "\n",
        "    inter_w = np.maximum(0, inter_x2 - inter_x1)\n",
        "    inter_h = np.maximum(0, inter_y2 - inter_y1)\n",
        "    intersection = inter_w * inter_h\n",
        "\n",
        "    gt_area = (gt_x2 - gt_x1) * (gt_y2 - gt_y1)\n",
        "    pred_area = (pred_x2 - pred_x1) * (pred_y2 - pred_y1)\n",
        "    union = gt_area + pred_area.T - intersection\n",
        "\n",
        "    iou_matrix = intersection / np.maximum(union, 1e-7)  # Avoid division by zero\n",
        "    return iou_matrix\n"
      ],
      "metadata": {
        "id": "fEc_6hbHbjiH"
      },
      "execution_count": 122,
      "outputs": []
    },
    {
      "cell_type": "code",
      "source": [
        "# 2. (a) Pascal VOC 11-point Interpolation\n",
        "\n",
        "def compute_ap_voc_11(recalls, precisions):\n",
        "    \"\"\"\n",
        "    Compute Average Precision (AP) using Pascal VOC 11-point interpolation.\n",
        "\n",
        "    Parameters:\n",
        "    - recalls: List of recall values.\n",
        "    - precisions: List of precision values.\n",
        "\n",
        "    Returns:\n",
        "    - AP: Average Precision score.\n",
        "    \"\"\"\n",
        "    ap = 0.0\n",
        "    for recall_threshold in np.linspace(0, 1, 11):  # [0, 0.1, ..., 1.0]\n",
        "        precisions_at_recall = precisions[recalls >= recall_threshold]\n",
        "        max_precision = np.max(precisions_at_recall) if precisions_at_recall.size > 0 else 0\n",
        "        ap += max_precision\n",
        "    return ap / 11\n"
      ],
      "metadata": {
        "id": "EWVXVhYhbjf3"
      },
      "execution_count": 119,
      "outputs": []
    },
    {
      "cell_type": "code",
      "source": [
        "# 2. (b) COCO 101-point Interpolation\n",
        "\n",
        "def compute_ap_coco_101(recalls, precisions):\n",
        "    \"\"\"\n",
        "    Compute Average Precision (AP) using COCO 101-point interpolation.\n",
        "\n",
        "    Parameters:\n",
        "    - recalls: List of recall values.\n",
        "    - precisions: List of precision values.\n",
        "\n",
        "    Returns:\n",
        "    - AP: Average Precision score.\n",
        "    \"\"\"\n",
        "    ap = 0.0\n",
        "    for recall_threshold in np.linspace(0, 1, 101):  # [0, 0.01, ..., 1.0]\n",
        "        precisions_at_recall = precisions[recalls >= recall_threshold]\n",
        "        max_precision = np.max(precisions_at_recall) if precisions_at_recall.size > 0 else 0\n",
        "        ap += max_precision\n",
        "    return ap / 101\n"
      ],
      "metadata": {
        "id": "GbOJ1_2vbjdc"
      },
      "execution_count": 120,
      "outputs": []
    },
    {
      "cell_type": "code",
      "source": [
        "# 2. (c) Area under Precision-Recall Curve (AUC-PR)\n",
        "\n",
        "def compute_ap_auc_pr(recalls, precisions):\n",
        "    \"\"\"\n",
        "    Compute Average Precision (AP) using Area Under Precision-Recall Curve.\n",
        "\n",
        "    Parameters:\n",
        "    - recalls: List of recall values.\n",
        "    - precisions: List of precision values.\n",
        "\n",
        "    Returns:\n",
        "    - AP: Average Precision score.\n",
        "    \"\"\"\n",
        "    sorted_indices = np.argsort(recalls)\n",
        "    recalls = recalls[sorted_indices]\n",
        "    precisions = precisions[sorted_indices]\n",
        "\n",
        "    ap = np.trapz(precisions, recalls)  # Numerical integration\n",
        "    return ap\n"
      ],
      "metadata": {
        "id": "tfUs7npvbjSe"
      },
      "execution_count": 121,
      "outputs": []
    },
    {
      "cell_type": "code",
      "source": [
        "# 2. (d) Random Data Generation and AP50 Computation\n",
        "\n",
        "def generate_random_boxes(num_images=10, num_boxes=10, image_size=100, box_size=20):\n",
        "    \"\"\"\n",
        "    Generate random ground truth and predicted bounding boxes.\n",
        "\n",
        "    Parameters:\n",
        "    - num_images: Number of images.\n",
        "    - num_boxes: Number of boxes per image.\n",
        "    - image_size: Size of the image (assuming square).\n",
        "    - box_size: Size of each box (assuming square).\n",
        "\n",
        "    Returns:\n",
        "    - gt_boxes_list: List of ground truth boxes per image.\n",
        "    - pred_boxes_list: List of predicted boxes per image.\n",
        "    \"\"\"\n",
        "    gt_boxes_list = []\n",
        "    pred_boxes_list = []\n",
        "\n",
        "    for _ in range(num_images):\n",
        "        gt_boxes = np.random.randint(0, image_size - box_size, (num_boxes, 2))\n",
        "        gt_boxes = np.hstack([gt_boxes, gt_boxes + box_size])  # (x_min, y_min, x_max, y_max)\n",
        "\n",
        "        pred_boxes = np.random.randint(0, image_size - box_size, (num_boxes, 2))\n",
        "        pred_boxes = np.hstack([pred_boxes, pred_boxes + box_size])  # (x_min, y_min, x_max, y_max)\n",
        "\n",
        "        gt_boxes_list.append(gt_boxes)\n",
        "        pred_boxes_list.append(pred_boxes)\n",
        "\n",
        "    return gt_boxes_list, pred_boxes_list\n",
        "\n",
        "\n",
        "def compute_ap50_for_methods():\n",
        "    \"\"\"\n",
        "    Compute AP50 (Average Precision at IoU=0.5) using all three methods.\n",
        "    \"\"\"\n",
        "    gt_boxes_list, pred_boxes_list = generate_random_boxes()\n",
        "\n",
        "    ap_voc_11, ap_coco_101, ap_auc_pr = 0, 0, 0\n",
        "\n",
        "    for gt_boxes, pred_boxes in zip(gt_boxes_list, pred_boxes_list):\n",
        "        iou_matrix = compute_iou_vectorized(gt_boxes, pred_boxes)\n",
        "        matches = np.any(iou_matrix >= 0.5, axis=1)\n",
        "\n",
        "        recalls = np.linspace(0, 1, len(matches))\n",
        "        precisions = np.cumsum(matches) / np.arange(1, len(matches) + 1)\n",
        "\n",
        "        ap_voc_11 += compute_ap_voc_11(recalls, precisions)\n",
        "        ap_coco_101 += compute_ap_coco_101(recalls, precisions)\n",
        "        ap_auc_pr += compute_ap_auc_pr(recalls, precisions)\n",
        "\n",
        "    num_images = len(gt_boxes_list)\n",
        "    print(f\"AP50 using Pascal VOC 11-point interpolation: {ap_voc_11 / num_images:.4f}\")\n",
        "    print(f\"AP50 using COCO 101-point interpolation: {ap_coco_101 / num_images:.4f}\")\n",
        "    print(f\"AP50 using Area Under PR Curve: {ap_auc_pr / num_images:.4f}\")\n",
        "\n",
        "\n",
        "compute_ap50_for_methods()\n"
      ],
      "metadata": {
        "id": "KqZZNw0sbiv_",
        "colab": {
          "base_uri": "https://localhost:8080/"
        },
        "outputId": "8d4b107e-72f9-4b13-a1e5-353ea5614f6c"
      },
      "execution_count": 123,
      "outputs": [
        {
          "output_type": "stream",
          "name": "stdout",
          "text": [
            "AP50 using Pascal VOC 11-point interpolation: 0.1821\n",
            "AP50 using COCO 101-point interpolation: 0.1650\n",
            "AP50 using Area Under PR Curve: 0.1386\n"
          ]
        }
      ]
    },
    {
      "cell_type": "code",
      "source": [
        "### MODEL BUILDING AND EVALUATION\n",
        "\n",
        "## 0. Data Preparation and Train-Test Split\n",
        "\n",
        "import numpy as np\n",
        "import random\n",
        "import os\n",
        "import cv2\n",
        "import shutil\n",
        "from sklearn.model_selection import train_test_split\n",
        "\n",
        "# Generate Random Data\n",
        "def generate_dataset(num_images=100, num_boxes=5, image_size=100, box_size=20):\n",
        "    images = []\n",
        "    gt_boxes = []\n",
        "\n",
        "    for _ in range(num_images):\n",
        "        img = np.random.randint(0, 255, (image_size, image_size, 3), dtype=np.uint8)\n",
        "        images.append(img)\n",
        "\n",
        "        boxes = np.random.randint(0, image_size - box_size, (num_boxes, 2))\n",
        "        boxes = np.hstack([boxes, boxes + box_size])  # (x_min, y_min, x_max, y_max)\n",
        "        gt_boxes.append(boxes)\n",
        "\n",
        "    return np.array(images), np.array(gt_boxes)\n",
        "\n",
        "# Generate synthetic dataset\n",
        "images, gt_boxes = generate_dataset()\n",
        "\n",
        "# Split into train (80%), test (20%)\n",
        "train_images, test_images, train_boxes, test_boxes = train_test_split(images, gt_boxes, test_size=0.2, random_state=42)\n",
        "\n",
        "# Further split train into train (90%) and validation (10%)\n",
        "train_images, val_images, train_boxes, val_boxes = train_test_split(train_images, train_boxes, test_size=0.1, random_state=42)\n",
        "\n",
        "print(f\"Train: {len(train_images)}, Validation: {len(val_images)}, Test: {len(test_images)}\")\n"
      ],
      "metadata": {
        "colab": {
          "base_uri": "https://localhost:8080/"
        },
        "id": "u4meddo7gA6N",
        "outputId": "57ad090b-eefd-4b9c-8668-543622e8b125"
      },
      "execution_count": 124,
      "outputs": [
        {
          "output_type": "stream",
          "name": "stdout",
          "text": [
            "Train: 72, Validation: 8, Test: 20\n"
          ]
        }
      ]
    },
    {
      "cell_type": "code",
      "source": [
        "#!pip install ultralytics supervision\n",
        "\n",
        "\n",
        "## 1. Train YOLO Using Ultralytics\n",
        "from ultralytics import YOLO\n",
        "\n",
        "# Create dataset directories for YOLO training\n",
        "for split, images_data, boxes_data in zip([\"train\", \"val\", \"test\"],\n",
        "                                          [train_images, val_images, test_images],\n",
        "                                          [train_boxes, val_boxes, test_boxes]):\n",
        "    os.makedirs(f\"dataset/{split}/images\", exist_ok=True)\n",
        "    os.makedirs(f\"dataset/{split}/labels\", exist_ok=True)\n",
        "\n",
        "    for i, (img, boxes) in enumerate(zip(images_data, boxes_data)):\n",
        "        img_path = f\"dataset/{split}/images/{i}.jpg\"\n",
        "        label_path = f\"dataset/{split}/labels/{i}.txt\"\n",
        "        cv2.imwrite(img_path, img)\n",
        "\n",
        "        # Convert bounding boxes to YOLO format (x_center, y_center, width, height)\n",
        "        with open(label_path, \"w\") as f:\n",
        "            for box in boxes:\n",
        "                x_min, y_min, x_max, y_max = box\n",
        "                x_center = (x_min + x_max) / (2 * 100)\n",
        "                y_center = (y_min + y_max) / (2 * 100)\n",
        "                width = (x_max - x_min) / 100\n",
        "                height = (y_max - y_min) / 100\n",
        "                f.write(f\"0 {x_center} {y_center} {width} {height}\\n\")  # Class 0 (solar panel)\n"
      ],
      "metadata": {
        "colab": {
          "base_uri": "https://localhost:8080/"
        },
        "id": "VJsoFj4VgBQx",
        "outputId": "0a49dda4-04a0-452a-ce88-d756ea8bf031"
      },
      "execution_count": 126,
      "outputs": [
        {
          "output_type": "stream",
          "name": "stdout",
          "text": [
            "Creating new Ultralytics Settings v0.0.6 file ✅ \n",
            "View Ultralytics Settings with 'yolo settings' or at '/root/.config/Ultralytics/settings.json'\n",
            "Update Settings with 'yolo settings key=value', i.e. 'yolo settings runs_dir=path/to/dir'. For help see https://docs.ultralytics.com/quickstart/#ultralytics-settings.\n"
          ]
        }
      ]
    },
    {
      "cell_type": "code",
      "source": [
        "model = YOLO(\"yolov8n.yaml\")  # Load YOLO nano model\n",
        "\n",
        "results = model.train(\n",
        "    data=\"dataset/data.yaml\",\n",
        "    epochs=50,\n",
        "    batch=8,\n",
        "    imgsz=100,\n",
        "    device=\"cuda\"  # Use GPU if available\n",
        ")\n",
        "\n",
        "# Show Validation Loss Convergence:\n",
        "import matplotlib.pyplot as plt\n",
        "\n",
        "train_loss = results.metrics[\"train_loss\"]\n",
        "val_loss = results.metrics[\"val_loss\"]\n",
        "\n",
        "plt.plot(train_loss, label=\"Train Loss\")\n",
        "plt.plot(val_loss, label=\"Validation Loss\")\n",
        "plt.xlabel(\"Epochs\")\n",
        "plt.ylabel(\"Loss\")\n",
        "plt.legend()\n",
        "plt.title(\"Validation Loss Convergence\")\n",
        "plt.show()"
      ],
      "metadata": {
        "colab": {
          "base_uri": "https://localhost:8080/",
          "height": 530
        },
        "id": "Wp6qjTS1q52v",
        "outputId": "ff31fd48-96ab-4ba2-9c67-9da06c761137"
      },
      "execution_count": 132,
      "outputs": [
        {
          "output_type": "stream",
          "name": "stdout",
          "text": [
            "Ultralytics 8.3.81 🚀 Python-3.11.11 torch-2.5.1+cu124 \n"
          ]
        },
        {
          "output_type": "error",
          "ename": "ValueError",
          "evalue": "Invalid CUDA 'device=0' requested. Use 'device=cpu' or pass valid CUDA device(s) if available, i.e. 'device=0' or 'device=0,1,2,3' for Multi-GPU.\n\ntorch.cuda.is_available(): False\ntorch.cuda.device_count(): 0\nos.environ['CUDA_VISIBLE_DEVICES']: 0\nSee https://pytorch.org/get-started/locally/ for up-to-date torch install instructions if no CUDA devices are seen by torch.\n",
          "traceback": [
            "\u001b[0;31m---------------------------------------------------------------------------\u001b[0m",
            "\u001b[0;31mValueError\u001b[0m                                Traceback (most recent call last)",
            "\u001b[0;32m<ipython-input-132-26963c921e85>\u001b[0m in \u001b[0;36m<cell line: 0>\u001b[0;34m()\u001b[0m\n\u001b[1;32m      1\u001b[0m \u001b[0mmodel\u001b[0m \u001b[0;34m=\u001b[0m \u001b[0mYOLO\u001b[0m\u001b[0;34m(\u001b[0m\u001b[0;34m\"yolov8n.yaml\"\u001b[0m\u001b[0;34m)\u001b[0m  \u001b[0;31m# Load YOLO nano model\u001b[0m\u001b[0;34m\u001b[0m\u001b[0;34m\u001b[0m\u001b[0m\n\u001b[1;32m      2\u001b[0m \u001b[0;34m\u001b[0m\u001b[0m\n\u001b[0;32m----> 3\u001b[0;31m results = model.train(\n\u001b[0m\u001b[1;32m      4\u001b[0m     \u001b[0mdata\u001b[0m\u001b[0;34m=\u001b[0m\u001b[0;34m\"dataset/data.yaml\"\u001b[0m\u001b[0;34m,\u001b[0m\u001b[0;34m\u001b[0m\u001b[0;34m\u001b[0m\u001b[0m\n\u001b[1;32m      5\u001b[0m     \u001b[0mepochs\u001b[0m\u001b[0;34m=\u001b[0m\u001b[0;36m50\u001b[0m\u001b[0;34m,\u001b[0m\u001b[0;34m\u001b[0m\u001b[0;34m\u001b[0m\u001b[0m\n",
            "\u001b[0;32m/usr/local/lib/python3.11/dist-packages/ultralytics/engine/model.py\u001b[0m in \u001b[0;36mtrain\u001b[0;34m(self, trainer, **kwargs)\u001b[0m\n\u001b[1;32m    802\u001b[0m             \u001b[0margs\u001b[0m\u001b[0;34m[\u001b[0m\u001b[0;34m\"resume\"\u001b[0m\u001b[0;34m]\u001b[0m \u001b[0;34m=\u001b[0m \u001b[0mself\u001b[0m\u001b[0;34m.\u001b[0m\u001b[0mckpt_path\u001b[0m\u001b[0;34m\u001b[0m\u001b[0;34m\u001b[0m\u001b[0m\n\u001b[1;32m    803\u001b[0m \u001b[0;34m\u001b[0m\u001b[0m\n\u001b[0;32m--> 804\u001b[0;31m         \u001b[0mself\u001b[0m\u001b[0;34m.\u001b[0m\u001b[0mtrainer\u001b[0m \u001b[0;34m=\u001b[0m \u001b[0;34m(\u001b[0m\u001b[0mtrainer\u001b[0m \u001b[0;32mor\u001b[0m \u001b[0mself\u001b[0m\u001b[0;34m.\u001b[0m\u001b[0m_smart_load\u001b[0m\u001b[0;34m(\u001b[0m\u001b[0;34m\"trainer\"\u001b[0m\u001b[0;34m)\u001b[0m\u001b[0;34m)\u001b[0m\u001b[0;34m(\u001b[0m\u001b[0moverrides\u001b[0m\u001b[0;34m=\u001b[0m\u001b[0margs\u001b[0m\u001b[0;34m,\u001b[0m \u001b[0m_callbacks\u001b[0m\u001b[0;34m=\u001b[0m\u001b[0mself\u001b[0m\u001b[0;34m.\u001b[0m\u001b[0mcallbacks\u001b[0m\u001b[0;34m)\u001b[0m\u001b[0;34m\u001b[0m\u001b[0;34m\u001b[0m\u001b[0m\n\u001b[0m\u001b[1;32m    805\u001b[0m         \u001b[0;32mif\u001b[0m \u001b[0;32mnot\u001b[0m \u001b[0margs\u001b[0m\u001b[0;34m.\u001b[0m\u001b[0mget\u001b[0m\u001b[0;34m(\u001b[0m\u001b[0;34m\"resume\"\u001b[0m\u001b[0;34m)\u001b[0m\u001b[0;34m:\u001b[0m  \u001b[0;31m# manually set model only if not resuming\u001b[0m\u001b[0;34m\u001b[0m\u001b[0;34m\u001b[0m\u001b[0m\n\u001b[1;32m    806\u001b[0m             \u001b[0mself\u001b[0m\u001b[0;34m.\u001b[0m\u001b[0mtrainer\u001b[0m\u001b[0;34m.\u001b[0m\u001b[0mmodel\u001b[0m \u001b[0;34m=\u001b[0m \u001b[0mself\u001b[0m\u001b[0;34m.\u001b[0m\u001b[0mtrainer\u001b[0m\u001b[0;34m.\u001b[0m\u001b[0mget_model\u001b[0m\u001b[0;34m(\u001b[0m\u001b[0mweights\u001b[0m\u001b[0;34m=\u001b[0m\u001b[0mself\u001b[0m\u001b[0;34m.\u001b[0m\u001b[0mmodel\u001b[0m \u001b[0;32mif\u001b[0m \u001b[0mself\u001b[0m\u001b[0;34m.\u001b[0m\u001b[0mckpt\u001b[0m \u001b[0;32melse\u001b[0m \u001b[0;32mNone\u001b[0m\u001b[0;34m,\u001b[0m \u001b[0mcfg\u001b[0m\u001b[0;34m=\u001b[0m\u001b[0mself\u001b[0m\u001b[0;34m.\u001b[0m\u001b[0mmodel\u001b[0m\u001b[0;34m.\u001b[0m\u001b[0myaml\u001b[0m\u001b[0;34m)\u001b[0m\u001b[0;34m\u001b[0m\u001b[0;34m\u001b[0m\u001b[0m\n",
            "\u001b[0;32m/usr/local/lib/python3.11/dist-packages/ultralytics/engine/trainer.py\u001b[0m in \u001b[0;36m__init__\u001b[0;34m(self, cfg, overrides, _callbacks)\u001b[0m\n\u001b[1;32m    102\u001b[0m         \u001b[0mself\u001b[0m\u001b[0;34m.\u001b[0m\u001b[0margs\u001b[0m \u001b[0;34m=\u001b[0m \u001b[0mget_cfg\u001b[0m\u001b[0;34m(\u001b[0m\u001b[0mcfg\u001b[0m\u001b[0;34m,\u001b[0m \u001b[0moverrides\u001b[0m\u001b[0;34m)\u001b[0m\u001b[0;34m\u001b[0m\u001b[0;34m\u001b[0m\u001b[0m\n\u001b[1;32m    103\u001b[0m         \u001b[0mself\u001b[0m\u001b[0;34m.\u001b[0m\u001b[0mcheck_resume\u001b[0m\u001b[0;34m(\u001b[0m\u001b[0moverrides\u001b[0m\u001b[0;34m)\u001b[0m\u001b[0;34m\u001b[0m\u001b[0;34m\u001b[0m\u001b[0m\n\u001b[0;32m--> 104\u001b[0;31m         \u001b[0mself\u001b[0m\u001b[0;34m.\u001b[0m\u001b[0mdevice\u001b[0m \u001b[0;34m=\u001b[0m \u001b[0mselect_device\u001b[0m\u001b[0;34m(\u001b[0m\u001b[0mself\u001b[0m\u001b[0;34m.\u001b[0m\u001b[0margs\u001b[0m\u001b[0;34m.\u001b[0m\u001b[0mdevice\u001b[0m\u001b[0;34m,\u001b[0m \u001b[0mself\u001b[0m\u001b[0;34m.\u001b[0m\u001b[0margs\u001b[0m\u001b[0;34m.\u001b[0m\u001b[0mbatch\u001b[0m\u001b[0;34m)\u001b[0m\u001b[0;34m\u001b[0m\u001b[0;34m\u001b[0m\u001b[0m\n\u001b[0m\u001b[1;32m    105\u001b[0m         \u001b[0mself\u001b[0m\u001b[0;34m.\u001b[0m\u001b[0mvalidator\u001b[0m \u001b[0;34m=\u001b[0m \u001b[0;32mNone\u001b[0m\u001b[0;34m\u001b[0m\u001b[0;34m\u001b[0m\u001b[0m\n\u001b[1;32m    106\u001b[0m         \u001b[0mself\u001b[0m\u001b[0;34m.\u001b[0m\u001b[0mmetrics\u001b[0m \u001b[0;34m=\u001b[0m \u001b[0;32mNone\u001b[0m\u001b[0;34m\u001b[0m\u001b[0;34m\u001b[0m\u001b[0m\n",
            "\u001b[0;32m/usr/local/lib/python3.11/dist-packages/ultralytics/utils/torch_utils.py\u001b[0m in \u001b[0;36mselect_device\u001b[0;34m(device, batch, newline, verbose)\u001b[0m\n\u001b[1;32m    190\u001b[0m                 \u001b[0;32melse\u001b[0m \u001b[0;34m\"\"\u001b[0m\u001b[0;34m\u001b[0m\u001b[0;34m\u001b[0m\u001b[0m\n\u001b[1;32m    191\u001b[0m             )\n\u001b[0;32m--> 192\u001b[0;31m             raise ValueError(\n\u001b[0m\u001b[1;32m    193\u001b[0m                 \u001b[0;34mf\"Invalid CUDA 'device={device}' requested.\"\u001b[0m\u001b[0;34m\u001b[0m\u001b[0;34m\u001b[0m\u001b[0m\n\u001b[1;32m    194\u001b[0m                 \u001b[0;34mf\" Use 'device=cpu' or pass valid CUDA device(s) if available,\"\u001b[0m\u001b[0;34m\u001b[0m\u001b[0;34m\u001b[0m\u001b[0m\n",
            "\u001b[0;31mValueError\u001b[0m: Invalid CUDA 'device=0' requested. Use 'device=cpu' or pass valid CUDA device(s) if available, i.e. 'device=0' or 'device=0,1,2,3' for Multi-GPU.\n\ntorch.cuda.is_available(): False\ntorch.cuda.device_count(): 0\nos.environ['CUDA_VISIBLE_DEVICES']: 0\nSee https://pytorch.org/get-started/locally/ for up-to-date torch install instructions if no CUDA devices are seen by torch.\n"
          ]
        }
      ]
    },
    {
      "cell_type": "code",
      "source": [
        "## 2. Predict Solar Panels on Test Data\n",
        "\n",
        "test_image_paths = [f\"dataset/test/images/{i}.jpg\" for i in range(len(test_images))]\n",
        "predictions = model.predict(test_image_paths)\n",
        "\n",
        "# Visualize ground truth vs predicted boxes\n",
        "import matplotlib.patches as patches\n",
        "import matplotlib.pyplot as plt\n",
        "\n",
        "def visualize_boxes(image, gt_boxes, pred_boxes):\n",
        "    fig, ax = plt.subplots(1, figsize=(6,6))\n",
        "    ax.imshow(image)\n",
        "\n",
        "    # Ground truth boxes in Green\n",
        "    for box in gt_boxes:\n",
        "        x_min, y_min, x_max, y_max = box\n",
        "        rect = patches.Rectangle((x_min, y_min), x_max - x_min, y_max - y_min, linewidth=2, edgecolor=\"g\", facecolor=\"none\")\n",
        "        ax.add_patch(rect)\n",
        "\n",
        "    # Predicted boxes in Red\n",
        "    for box in pred_boxes:\n",
        "        x_min, y_min, x_max, y_max = box\n",
        "        rect = patches.Rectangle((x_min, y_min), x_max - x_min, y_max - y_min, linewidth=2, edgecolor=\"r\", facecolor=\"none\")\n",
        "        ax.add_patch(rect)\n",
        "\n",
        "    plt.show()\n",
        "\n",
        "# Show visualization for 3 test samples\n",
        "for i in range(3):\n",
        "    image = test_images[i]\n",
        "    gt_boxes = test_boxes[i]\n",
        "    pred_boxes = predictions[i].boxes.xyxy.cpu().numpy()\n",
        "    visualize_boxes(image, gt_boxes, pred_boxes)\n"
      ],
      "metadata": {
        "id": "jXvewRRJgBbs"
      },
      "execution_count": null,
      "outputs": []
    },
    {
      "cell_type": "code",
      "source": [
        "## 3. (a) Compute mAP50 and Compare with Previous Implementation\n",
        "\n",
        "import supervision as sv\n",
        "from supervision.metrics import mean_average_precision\n",
        "\n",
        "# Convert predictions and ground truth into supervision format\n",
        "gt_dict = {i: test_boxes[i] for i in range(len(test_images))}\n",
        "pred_dict = {i: predictions[i].boxes.xyxy.cpu().numpy() for i in range(len(test_images))}\n",
        "\n",
        "# Compute mAP50 using supervision\n",
        "map_50_sv = mean_average_precision(gt_dict, pred_dict, iou_threshold=0.5)\n",
        "\n",
        "print(f\"mAP50 using supervision: {map_50_sv:.4f}\")\n"
      ],
      "metadata": {
        "id": "Ap2eA25bmZ38"
      },
      "execution_count": null,
      "outputs": []
    },
    {
      "cell_type": "code",
      "source": [
        "## 3. (b) Compute Precision, Recall, and F1-scores Table\n",
        "\n",
        "iou_thresholds = [0.1, 0.3, 0.5, 0.7, 0.9]\n",
        "conf_thresholds = [0.1, 0.3, 0.5, 0.7, 0.9]\n",
        "results_table = []\n",
        "\n",
        "for iou in iou_thresholds:\n",
        "    row = []\n",
        "    for conf in conf_thresholds:\n",
        "        conf_matrix = sv.ConfusionMatrix.from_detections(gt_dict, pred_dict, iou_threshold=iou, confidence_threshold=conf)\n",
        "        tp, fp, fn = conf_matrix.tp, conf_matrix.fp, conf_matrix.fn\n",
        "\n",
        "        precision = tp / (tp + fp + 1e-7)\n",
        "        recall = tp / (tp + fn + 1e-7)\n",
        "        f1_score = 2 * precision * recall / (precision + recall + 1e-7)\n",
        "\n",
        "        row.append((precision, recall, f1_score))\n",
        "    results_table.append(row)\n",
        "\n",
        "import pandas as pd\n",
        "df = pd.DataFrame(results_table, index=iou_thresholds, columns=conf_thresholds)\n",
        "df.columns.name = \"Confidence Thresholds\"\n",
        "df.index.name = \"IoU Thresholds\"\n",
        "print(df)\n"
      ],
      "metadata": {
        "id": "4GnNYY2YmZ0o"
      },
      "execution_count": null,
      "outputs": []
    },
    {
      "cell_type": "code",
      "source": [],
      "metadata": {
        "id": "KVw8CJuZmZw8"
      },
      "execution_count": null,
      "outputs": []
    },
    {
      "cell_type": "markdown",
      "source": [
        "## Key Takeaways\n",
        "\n",
        "- YOLO model is trained, and validation loss is shown to converge.\n",
        "- Predictions are visualized with ground truth.\n",
        "- mAP50 computed using ```supervision.metrics``` is compared to our custom implementation.\n",
        "- A table of Precision, Recall, and F1-scores is generated for various IoU and confidence thresholds."
      ],
      "metadata": {
        "id": "OLaXfsIBmaVs"
      }
    },
    {
      "cell_type": "code",
      "source": [
        "# DEBUGGING\n",
        "\n",
        "!pip install pyyaml"
      ],
      "metadata": {
        "colab": {
          "base_uri": "https://localhost:8080/"
        },
        "id": "0VW40Wn4mZdj",
        "outputId": "2a3083b5-4afe-4ba4-c812-19c02e3a53c0"
      },
      "execution_count": 129,
      "outputs": [
        {
          "output_type": "stream",
          "name": "stdout",
          "text": [
            "Requirement already satisfied: pyyaml in /usr/local/lib/python3.11/dist-packages (6.0.2)\n"
          ]
        }
      ]
    },
    {
      "cell_type": "code",
      "source": [
        "import yaml\n",
        "\n",
        "# Define the dataset structure\n",
        "data_config = {\n",
        "    \"train\": \"dataset/train/images\",  # Path to training images\n",
        "    \"val\": \"dataset/val/images\",      # Path to validation images\n",
        "    \"test\": \"dataset/test/images\",    # Path to test images\n",
        "    \"nc\": 1,                          # Number of object classes\n",
        "    \"names\": [\"solar_panel\"]          # Class names\n",
        "}\n",
        "\n",
        "# Save as YAML file\n",
        "yaml_file_path = \"dataset/data.yaml\"\n",
        "\n",
        "with open(yaml_file_path, \"w\") as file:\n",
        "    yaml.dump(data_config, file, default_flow_style=False)\n",
        "\n",
        "print(f\"data.yaml created at {yaml_file_path}\")\n"
      ],
      "metadata": {
        "colab": {
          "base_uri": "https://localhost:8080/"
        },
        "id": "maQUF-u_xMCR",
        "outputId": "8cab054a-b587-412e-8faa-396e89a29e40"
      },
      "execution_count": 130,
      "outputs": [
        {
          "output_type": "stream",
          "name": "stdout",
          "text": [
            "data.yaml created at dataset/data.yaml\n"
          ]
        }
      ]
    },
    {
      "cell_type": "code",
      "source": [
        "!ls dataset/"
      ],
      "metadata": {
        "colab": {
          "base_uri": "https://localhost:8080/"
        },
        "id": "V11GfgnRxPWw",
        "outputId": "08f6f245-5870-456b-b18e-23403322c880"
      },
      "execution_count": 131,
      "outputs": [
        {
          "output_type": "stream",
          "name": "stdout",
          "text": [
            "data.yaml  test  train\tval\n"
          ]
        }
      ]
    },
    {
      "cell_type": "code",
      "source": [],
      "metadata": {
        "id": "RTkmg-oGxVhx"
      },
      "execution_count": null,
      "outputs": []
    }
  ]
}